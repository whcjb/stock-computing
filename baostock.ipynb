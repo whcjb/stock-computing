{
 "cells": [
  {
   "cell_type": "code",
   "execution_count": 1,
   "metadata": {},
   "outputs": [],
   "source": [
    "import baostock as bs"
   ]
  },
  {
   "cell_type": "code",
   "execution_count": 2,
   "metadata": {},
   "outputs": [],
   "source": [
    "import pandas"
   ]
  },
  {
   "cell_type": "code",
   "execution_count": 10,
   "metadata": {},
   "outputs": [
    {
     "name": "stdout",
     "output_type": "stream",
     "text": [
      "login success!\n"
     ]
    },
    {
     "data": {
      "text/plain": [
       "<baostock.data.resultset.ResultData at 0x1199f6f90>"
      ]
     },
     "execution_count": 10,
     "metadata": {},
     "output_type": "execute_result"
    }
   ],
   "source": [
    "bs.login()"
   ]
  },
  {
   "cell_type": "markdown",
   "metadata": {},
   "source": [
    "a | b|\n",
    ":---:|:---:|\n",
    "code | 股票代码，sh或sz.+6位数字代码，或者指数代码，如：sh.601398。sh：上海；sz：深圳。此参数不可为空\n",
    " fields | 指示简称，支持多指标输入，以半角逗号分隔，填写内容作为返回类型的列。详细指标列表见历史行情指标参数章节，日线与分钟线参数不同。此参数不可为空；\n",
    " start | 开始日期（包含），格式“YYYY-MM-DD”，为空时取2015-01-01；\n",
    " end | 结束日期（包含），格式“YYYY-MM-DD”，为空时取最近一个交易日；\n",
    " frequency | 数据类型，默认为d，日k线；d=日k线、w=周、m=月、5=5分钟、15=15分钟、30=30分钟、60=60分钟k线数据，不区分大小写；指数没有分钟线数据；周线每周最后一个交易日才可以获取，月线每月最后一个交易日才可以获取。\n",
    " adjustflag | 复权类型，默认不复权：3；1：后复权；2：前复权。已支持分钟线、日线、周线、月线前后复权。\n",
    "\n",
    "\n",
    "| 参数名称   |    参数参数描述 | 算法说明 |\n",
    "|:---------:|:-------------:|:-------:|\n",
    "|date |\t交易所行情日期 | -|\t\n",
    "code |\t证券代码 | - |\t\n",
    "open |\t开盘价\t| - |\n",
    "high |\t最高价\t|- |\n",
    "low\t| 最低价 | |\t\n",
    "close\t| 收盘价 | |\t\n",
    "preclose |\t前收盘价 |\t见表格下方详细说明\n",
    "volume\t| 成交量 |（累计 单位：股）\t\n",
    "amount\t| 成交额 |（单位：人民币元）\t\n",
    "adjustflag |\t复权状态(1：后复权， 2：前复权，3：不复权）\t| |\n",
    "turn\t| 换手率 |\t[指定交易日的成交量(股)/指定交易日的股票的流通股总股数(股)]*100%\n",
    "tradestatus |\t交易状态(1：正常交易 0：停牌）\t\n",
    "pctChg\t | 涨跌幅 |（百分比）\t日涨跌幅=[(指定交易日的收盘价-指定交易日前收盘价)/指定交易日前收盘价]*100%\n",
    "peTTM |\t滚动市盈率\t| (指定交易日的股票收盘价/指定交易日的每股盈余TTM)=(指定交易日的股票收盘价*截至当日公司总股本)/归属母公司股东净利润TTM\n",
    "pbMRQ |\t市净率\t | (指定交易日的股票收盘价/指定交易日的每股净资产)=总市值/(最近披露的归属母公司股东的权益-其他权益工具)\n",
    "psTTM |\t滚动市销率\t| (指定交易日的股票收盘价/指定交易日的每股销售额)=(指定交易日的股票收盘价*截至当日公司总股本)/营业总收入TTM\n",
    "pcfNcfTTM |\t滚动市现率 |\t(指定交易日的股票收盘价/指定交易日的每股现金流TTM)=(指定交易日的股票收盘价*截至当日公司总股本)/现金以及现金等价物净增加额TTM\n",
    "isST  | \t是否ST股，1是，0否"
   ]
  },
  {
   "cell_type": "code",
   "execution_count": 25,
   "metadata": {},
   "outputs": [],
   "source": [
    "rs = bs.query_history_k_data_plus(\n",
    "    code='sz.002702', \\\n",
    "    fields=\"date,code,\\\n",
    "        open,high,low,close, preclose, \\\n",
    "        volume, amount,\\\n",
    "        adjustflag, \\\n",
    "        turn, \\\n",
    "        tradestatus, \\\n",
    "        pctChg, \\\n",
    "        isST\",\n",
    "    start_date='2020-08-20', \\\n",
    "    end_date='2020-08-31', \\\n",
    "    frequency=\"d\", \\\n",
    "    adjustflag=\"3\")"
   ]
  },
  {
   "cell_type": "code",
   "execution_count": 26,
   "metadata": {
    "scrolled": false
   },
   "outputs": [
    {
     "name": "stdout",
     "output_type": "stream",
     "text": [
      "['2020-08-20', 'sz.002702', '12.1200', '12.1200', '11.2100', '11.5400', '12.4400', '62189116', '725421842.9900', '3', '19.505200', '1', '-7.234700', '0']\n",
      "['2020-08-21', 'sz.002702', '11.2700', '12.4400', '11.2500', '11.8000', '11.5400', '51042336', '610243452.7600', '3', '16.009100', '1', '2.253000', '0']\n",
      "['2020-08-24', 'sz.002702', '11.7000', '12.3000', '11.3600', '11.5100', '11.8000', '38301512', '446709808.9500', '3', '12.013000', '1', '-2.457600', '0']\n",
      "['2020-08-25', 'sz.002702', '11.5100', '11.6800', '11.0000', '11.0500', '11.5100', '35180580', '395610006.9700', '3', '11.034100', '1', '-3.996500', '0']\n",
      "['2020-08-26', 'sz.002702', '11.2000', '11.2900', '10.4700', '10.7100', '11.0500', '34156493', '369898647.9400', '3', '10.712900', '1', '-3.076900', '0']\n",
      "['2020-08-27', 'sz.002702', '10.8000', '10.9600', '10.5100', '10.8200', '10.7100', '26595584', '285880824.7800', '3', '8.341500', '1', '1.027100', '0']\n",
      "['2020-08-28', 'sz.002702', '10.7100', '11.6800', '10.7100', '11.4000', '10.8200', '36285812', '407636977.8400', '3', '11.380800', '1', '5.360400', '0']\n",
      "['2020-08-31', 'sz.002702', '11.5000', '11.9800', '11.4000', '11.6900', '11.4000', '32882334', '384535280.5100', '3', '10.313300', '1', '2.543900', '0']\n"
     ]
    }
   ],
   "source": [
    "while rs.next():\n",
    "    print(rs.get_row_data())"
   ]
  },
  {
   "cell_type": "code",
   "execution_count": 1,
   "metadata": {},
   "outputs": [
    {
     "ename": "NameError",
     "evalue": "name 'compute_turn' is not defined",
     "output_type": "error",
     "traceback": [
      "\u001b[0;31m--------------------------------------------------------------------------\u001b[0m",
      "\u001b[0;31mNameError\u001b[0m                                Traceback (most recent call last)",
      "\u001b[0;32m<ipython-input-1-d0030aa0fa43>\u001b[0m in \u001b[0;36m<module>\u001b[0;34m\u001b[0m\n\u001b[0;32m----> 1\u001b[0;31m \u001b[0mcompute_turn\u001b[0m\u001b[0;34m(\u001b[0m\u001b[0;34m)\u001b[0m\u001b[0;34m\u001b[0m\u001b[0;34m\u001b[0m\u001b[0m\n\u001b[0m",
      "\u001b[0;31mNameError\u001b[0m: name 'compute_turn' is not defined"
     ]
    }
   ],
   "source": [
    "compute_turn()"
   ]
  },
  {
   "cell_type": "code",
   "execution_count": null,
   "metadata": {},
   "outputs": [],
   "source": []
  }
 ],
 "metadata": {
  "kernelspec": {
   "display_name": "Python 3",
   "language": "python",
   "name": "python3"
  },
  "language_info": {
   "codemirror_mode": {
    "name": "ipython",
    "version": 3
   },
   "file_extension": ".py",
   "mimetype": "text/x-python",
   "name": "python",
   "nbconvert_exporter": "python",
   "pygments_lexer": "ipython3",
   "version": "3.7.7"
  }
 },
 "nbformat": 4,
 "nbformat_minor": 4
}
